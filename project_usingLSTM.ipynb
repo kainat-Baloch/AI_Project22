{
  "nbformat": 4,
  "nbformat_minor": 0,
  "metadata": {
    "colab": {
      "name": "project-usingLSTM.ipynb",
      "provenance": [],
      "collapsed_sections": [],
      "authorship_tag": "ABX9TyOGprVVtjQDSPxZ+6oS94gZ",
      "include_colab_link": true
    },
    "kernelspec": {
      "name": "python3",
      "display_name": "Python 3"
    }
  },
  "cells": [
    {
      "cell_type": "markdown",
      "metadata": {
        "id": "view-in-github",
        "colab_type": "text"
      },
      "source": [
        "<a href=\"https://colab.research.google.com/github/kainat-Baloch/AI_Project22/blob/main/project_usingLSTM.ipynb\" target=\"_parent\"><img src=\"https://colab.research.google.com/assets/colab-badge.svg\" alt=\"Open In Colab\"/></a>"
      ]
    },
    {
      "cell_type": "code",
      "metadata": {
        "id": "NlnUyK7t36pc"
      },
      "source": [
        "#importing libraries\r\n",
        "import pandas\r\n",
        "import matplotlib.pyplot as plt\r\n",
        "\r\n",
        "import numpy\r\n",
        "import matplotlib.pyplot as plt\r\n",
        "import pandas\r\n",
        "import math\r\n",
        "from keras.models import Sequential\r\n",
        "from keras.layers import Dense\r\n",
        "from keras.layers import LSTM\r\n",
        "from sklearn.preprocessing import MinMaxScaler\r\n",
        "from sklearn.metrics import mean_squared_error\r\n",
        "\r\n"
      ],
      "execution_count": 1,
      "outputs": []
    },
    {
      "cell_type": "code",
      "metadata": {
        "colab": {
          "base_uri": "https://localhost:8080/",
          "height": 198
        },
        "id": "f110XbDg5M5P",
        "outputId": "25bc7ad4-12bf-4c0e-b556-4a473ac6f79e"
      },
      "source": [
        "#importing data File\r\n",
        "dataset = pandas.read_csv('/content/project-data-2years.csv', usecols=[3], engine='python')\r\n",
        "dataset.head()"
      ],
      "execution_count": 2,
      "outputs": [
        {
          "output_type": "execute_result",
          "data": {
            "text/html": [
              "<div>\n",
              "<style scoped>\n",
              "    .dataframe tbody tr th:only-of-type {\n",
              "        vertical-align: middle;\n",
              "    }\n",
              "\n",
              "    .dataframe tbody tr th {\n",
              "        vertical-align: top;\n",
              "    }\n",
              "\n",
              "    .dataframe thead th {\n",
              "        text-align: right;\n",
              "    }\n",
              "</style>\n",
              "<table border=\"1\" class=\"dataframe\">\n",
              "  <thead>\n",
              "    <tr style=\"text-align: right;\">\n",
              "      <th></th>\n",
              "      <th>y</th>\n",
              "    </tr>\n",
              "  </thead>\n",
              "  <tbody>\n",
              "    <tr>\n",
              "      <th>0</th>\n",
              "      <td>2628</td>\n",
              "    </tr>\n",
              "    <tr>\n",
              "      <th>1</th>\n",
              "      <td>2874</td>\n",
              "    </tr>\n",
              "    <tr>\n",
              "      <th>2</th>\n",
              "      <td>2856</td>\n",
              "    </tr>\n",
              "    <tr>\n",
              "      <th>3</th>\n",
              "      <td>2594</td>\n",
              "    </tr>\n",
              "    <tr>\n",
              "      <th>4</th>\n",
              "      <td>2568</td>\n",
              "    </tr>\n",
              "  </tbody>\n",
              "</table>\n",
              "</div>"
            ],
            "text/plain": [
              "      y\n",
              "0  2628\n",
              "1  2874\n",
              "2  2856\n",
              "3  2594\n",
              "4  2568"
            ]
          },
          "metadata": {
            "tags": []
          },
          "execution_count": 2
        }
      ]
    },
    {
      "cell_type": "code",
      "metadata": {
        "id": "Yc5nj5jf8gOw"
      },
      "source": [
        ""
      ],
      "execution_count": 2,
      "outputs": []
    },
    {
      "cell_type": "code",
      "metadata": {
        "colab": {
          "base_uri": "https://localhost:8080/",
          "height": 265
        },
        "id": "mJJB3luj5QXL",
        "outputId": "5a5a6bcd-236d-440f-d7c4-a2ddf992873b"
      },
      "source": [
        "plt.plot(dataset)\r\n",
        "plt.show()"
      ],
      "execution_count": 3,
      "outputs": [
        {
          "output_type": "display_data",
          "data": {
            "image/png": "[encoded data removed]",
            "text/plain": [
              "<Figure size 432x288 with 1 Axes>"
            ]
          },
          "metadata": {
            "tags": [],
            "needs_background": "light"
          }
        }
      ]
    },
    {
      "cell_type": "code",
      "metadata": {
        "id": "VxMwZ2mA8hTY"
      },
      "source": [
        "# fix random seed for reproducibility\r\n",
        "numpy.random.seed(7)"
      ],
      "execution_count": 4,
      "outputs": []
    },
    {
      "cell_type": "code",
      "metadata": {
        "colab": {
          "base_uri": "https://localhost:8080/"
        },
        "id": "r8mLbH6P8ptb",
        "outputId": "df1c1b36-9b0c-49dc-e689-1fc58804e29d"
      },
      "source": [
        "dataframe = pandas.read_csv('/content/project-data-2years.csv', usecols=[3], engine='python')\r\n",
        "dataset = dataframe.values\r\n",
        "dataset = dataset.astype('float32')\r\n",
        "dataset.shape"
      ],
      "execution_count": 5,
      "outputs": [
        {
          "output_type": "execute_result",
          "data": {
            "text/plain": [
              "(731, 1)"
            ]
          },
          "metadata": {
            "tags": []
          },
          "execution_count": 5
        }
      ]
    },
    {
      "cell_type": "code",
      "metadata": {
        "id": "KaLAYjfT9dyT"
      },
      "source": [
        "# normalize the dataset\r\n",
        "scaler = MinMaxScaler(feature_range=(0, 1))\r\n",
        "dataset = scaler.fit_transform(dataset)"
      ],
      "execution_count": 6,
      "outputs": []
    },
    {
      "cell_type": "code",
      "metadata": {
        "colab": {
          "base_uri": "https://localhost:8080/"
        },
        "id": "aIjoVZo-94F1",
        "outputId": "ace970bf-db96-42d6-a7b1-aa4362613c29"
      },
      "source": [
        "# split into train and test sets\r\n",
        "train_size = int(len(dataset) * 0.67)\r\n",
        "test_size = len(dataset) - train_size\r\n",
        "train, test = dataset[0:train_size,:], dataset[train_size:len(dataset),:]\r\n",
        "print(len(train), len(test))\r\n"
      ],
      "execution_count": 7,
      "outputs": [
        {
          "output_type": "stream",
          "text": [
            "489 242\n"
          ],
          "name": "stdout"
        }
      ]
    },
    {
      "cell_type": "code",
      "metadata": {
        "id": "SVN0DyMA99ei"
      },
      "source": [
        "# convert an array of values into a dataset matrix\r\n",
        "def create_dataset(dataset, look_back=1):\r\n",
        "\tdataX, dataY = [], []\r\n",
        "\tfor i in range(len(dataset)-look_back-1):\r\n",
        "\t\ta = dataset[i:(i+look_back), 0]\r\n",
        "\t\tdataX.append(a)\r\n",
        "\t\tdataY.append(dataset[i + look_back, 0])\r\n",
        "\treturn numpy.array(dataX), numpy.array(dataY)"
      ],
      "execution_count": 8,
      "outputs": []
    },
    {
      "cell_type": "code",
      "metadata": {
        "id": "3Po-f08s-J3F"
      },
      "source": [
        "# reshape into X=t and Y=t+1\r\n",
        "look_back = 1\r\n",
        "trainX, trainY = create_dataset(train, look_back)\r\n",
        "testX, testY = create_dataset(test, look_back)"
      ],
      "execution_count": 9,
      "outputs": []
    },
    {
      "cell_type": "code",
      "metadata": {
        "id": "q6o-maj8-nvt"
      },
      "source": [
        "# reshape input to be [samples, time steps, features]\r\n",
        "trainX = numpy.reshape(trainX, (trainX.shape[0], 1, trainX.shape[1]))\r\n",
        "testX = numpy.reshape(testX, (testX.shape[0], 1, testX.shape[1]))"
      ],
      "execution_count": 10,
      "outputs": []
    },
    {
      "cell_type": "code",
      "metadata": {
        "colab": {
          "base_uri": "https://localhost:8080/"
        },
        "id": "fRo-U-lw_ASg",
        "outputId": "5b0b89f0-c924-4166-d519-307c45a4583e"
      },
      "source": [
        "# create and fit the LSTM network\r\n",
        "model = Sequential()\r\n",
        "model.add(LSTM(4, input_shape=(1, look_back)))\r\n",
        "model.add(Dense(1))\r\n",
        "model.compile(loss='mean_squared_error', optimizer='adam')\r\n",
        "model.fit(trainX, trainY, epochs=50, batch_size=1, verbose=2)"
      ],
      "execution_count": 11,
      "outputs": [
        {
          "output_type": "stream",
          "text": [
            "Epoch 1/50\n",
            "487/487 - 2s - loss: 0.0103\n",
            "Epoch 2/50\n",
            "487/487 - 0s - loss: 0.0026\n",
            "Epoch 3/50\n",
            "487/487 - 0s - loss: 0.0025\n",
            "Epoch 4/50\n",
            "487/487 - 0s - loss: 0.0026\n",
            "Epoch 5/50\n",
            "487/487 - 0s - loss: 0.0026\n",
            "Epoch 6/50\n",
            "487/487 - 0s - loss: 0.0025\n",
            "Epoch 7/50\n",
            "487/487 - 0s - loss: 0.0025\n",
            "Epoch 8/50\n",
            "487/487 - 0s - loss: 0.0026\n",
            "Epoch 9/50\n",
            "487/487 - 0s - loss: 0.0025\n",
            "Epoch 10/50\n",
            "487/487 - 0s - loss: 0.0025\n",
            "Epoch 11/50\n",
            "487/487 - 0s - loss: 0.0025\n",
            "Epoch 12/50\n",
            "487/487 - 0s - loss: 0.0025\n",
            "Epoch 13/50\n",
            "487/487 - 0s - loss: 0.0025\n",
            "Epoch 14/50\n",
            "487/487 - 0s - loss: 0.0025\n",
            "Epoch 15/50\n",
            "487/487 - 0s - loss: 0.0025\n",
            "Epoch 16/50\n",
            "487/487 - 0s - loss: 0.0025\n",
            "Epoch 17/50\n",
            "487/487 - 0s - loss: 0.0025\n",
            "Epoch 18/50\n",
            "487/487 - 0s - loss: 0.0025\n",
            "Epoch 19/50\n",
            "487/487 - 0s - loss: 0.0025\n",
            "Epoch 20/50\n",
            "487/487 - 0s - loss: 0.0025\n",
            "Epoch 21/50\n",
            "487/487 - 0s - loss: 0.0025\n",
            "Epoch 22/50\n",
            "487/487 - 0s - loss: 0.0025\n",
            "Epoch 23/50\n",
            "487/487 - 0s - loss: 0.0025\n",
            "Epoch 24/50\n",
            "487/487 - 0s - loss: 0.0025\n",
            "Epoch 25/50\n",
            "487/487 - 0s - loss: 0.0025\n",
            "Epoch 26/50\n",
            "487/487 - 0s - loss: 0.0025\n",
            "Epoch 27/50\n",
            "487/487 - 0s - loss: 0.0025\n",
            "Epoch 28/50\n",
            "487/487 - 0s - loss: 0.0025\n",
            "Epoch 29/50\n",
            "487/487 - 0s - loss: 0.0025\n",
            "Epoch 30/50\n",
            "487/487 - 0s - loss: 0.0025\n",
            "Epoch 31/50\n",
            "487/487 - 0s - loss: 0.0024\n",
            "Epoch 32/50\n",
            "487/487 - 0s - loss: 0.0025\n",
            "Epoch 33/50\n",
            "487/487 - 0s - loss: 0.0024\n",
            "Epoch 34/50\n",
            "487/487 - 0s - loss: 0.0025\n",
            "Epoch 35/50\n",
            "487/487 - 0s - loss: 0.0025\n",
            "Epoch 36/50\n",
            "487/487 - 0s - loss: 0.0025\n",
            "Epoch 37/50\n",
            "487/487 - 0s - loss: 0.0025\n",
            "Epoch 38/50\n",
            "487/487 - 0s - loss: 0.0025\n",
            "Epoch 39/50\n",
            "487/487 - 0s - loss: 0.0025\n",
            "Epoch 40/50\n",
            "487/487 - 0s - loss: 0.0025\n",
            "Epoch 41/50\n",
            "487/487 - 0s - loss: 0.0025\n",
            "Epoch 42/50\n",
            "487/487 - 0s - loss: 0.0025\n",
            "Epoch 43/50\n",
            "487/487 - 0s - loss: 0.0025\n",
            "Epoch 44/50\n",
            "487/487 - 0s - loss: 0.0025\n",
            "Epoch 45/50\n",
            "487/487 - 0s - loss: 0.0025\n",
            "Epoch 46/50\n",
            "487/487 - 0s - loss: 0.0025\n",
            "Epoch 47/50\n",
            "487/487 - 0s - loss: 0.0025\n",
            "Epoch 48/50\n",
            "487/487 - 0s - loss: 0.0025\n",
            "Epoch 49/50\n",
            "487/487 - 0s - loss: 0.0025\n",
            "Epoch 50/50\n",
            "487/487 - 0s - loss: 0.0025\n"
          ],
          "name": "stdout"
        },
        {
          "output_type": "execute_result",
          "data": {
            "text/plain": [
              "<tensorflow.python.keras.callbacks.History at 0x7fc0f23728d0>"
            ]
          },
          "metadata": {
            "tags": []
          },
          "execution_count": 11
        }
      ]
    },
    {
      "cell_type": "code",
      "metadata": {
        "id": "Djy9xKEU_cmK"
      },
      "source": [
        "# make predictions\r\n",
        "trainPredict = model.predict(trainX)\r\n",
        "testPredict = model.predict(testX)\r\n",
        "# invert predictions\r\n",
        "trainPredict = scaler.inverse_transform(trainPredict)\r\n",
        "trainY = scaler.inverse_transform([trainY])\r\n",
        "testPredict = scaler.inverse_transform(testPredict)\r\n",
        "testY = scaler.inverse_transform([testY])\r\n"
      ],
      "execution_count": 12,
      "outputs": []
    },
    {
      "cell_type": "code",
      "metadata": {
        "colab": {
          "base_uri": "https://localhost:8080/"
        },
        "id": "do6DX1b5ASbu",
        "outputId": "2267d757-22f9-4d85-f68e-49536cdbc848"
      },
      "source": [
        "# calculate root mean squared error\r\n",
        "trainScore = math.sqrt(mean_squared_error(trainY[0], trainPredict[:,0]))\r\n",
        "print('Train Score: %.2f RMSE' % (trainScore))\r\n",
        "testScore = math.sqrt(mean_squared_error(testY[0], testPredict[:,0]))\r\n",
        "print('Test Score: %.2f RMSE' % (testScore))"
      ],
      "execution_count": 13,
      "outputs": [
        {
          "output_type": "stream",
          "text": [
            "Train Score: 555.86 RMSE\n",
            "Test Score: 1176.44 RMSE\n"
          ],
          "name": "stdout"
        }
      ]
    },
    {
      "cell_type": "code",
      "metadata": {
        "id": "9efSxfdEB4js"
      },
      "source": [
        "# shift train predictions for plotting\r\n",
        "trainPredictPlot = numpy.empty_like(dataset)\r\n",
        "trainPredictPlot[:, :] = numpy.nan\r\n",
        "trainPredictPlot[look_back:len(trainPredict)+look_back, :] = trainPredict"
      ],
      "execution_count": 14,
      "outputs": []
    },
    {
      "cell_type": "code",
      "metadata": {
        "colab": {
          "base_uri": "https://localhost:8080/",
          "height": 265
        },
        "id": "GXLN7kyRB8Fe",
        "outputId": "dbbf2082-fc7b-4c41-96da-e7bfdfadba24"
      },
      "source": [
        "# shift test predictions for plotting\r\n",
        "testPredictPlot = numpy.empty_like(dataset)\r\n",
        "testPredictPlot[:, :] = numpy.nan\r\n",
        "testPredictPlot[len(trainPredict)+(look_back*2)+1:len(dataset)-1, :] = testPredict\r\n",
        "# plot baseline and predictions\r\n",
        "plt.plot(scaler.inverse_transform(dataset))\r\n",
        "plt.plot(trainPredictPlot)\r\n",
        "plt.plot(testPredictPlot)\r\n",
        "plt.show()"
      ],
      "execution_count": 15,
      "outputs": [
        {
          "output_type": "display_data",
          "data": {
            "image/png": "[encoded data removed]",
            "text/plain": [
              "<Figure size 432x288 with 1 Axes>"
            ]
          },
          "metadata": {
            "tags": [],
            "needs_background": "light"
          }
        }
      ]
    }
  ]
}